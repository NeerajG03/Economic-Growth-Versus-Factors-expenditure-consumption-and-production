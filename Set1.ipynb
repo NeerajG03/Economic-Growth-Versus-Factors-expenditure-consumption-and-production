{
 "cells": [
  {
   "cell_type": "markdown",
   "metadata": {},
   "source": [
    "## Importing of modules and loading of dataset"
   ]
  },
  {
   "cell_type": "code",
   "execution_count": 3,
   "metadata": {},
   "outputs": [],
   "source": [
    "import pandas as pd\n",
    "import numpy as np\n",
    "from pandas_profiling import ProfileReport\n",
    "import seaborn as sns\n",
    "from scipy import stats\n",
    "import matplotlib.pyplot as plt\n",
    "\n",
    "\n",
    "missing_values =[\"N/a\", \"na\", np.nan, \"\", 0, \"NaN\"]\n",
    "energy_data = pd.read_csv(\"energy-use-per-capita-vs-gdp-per-capita.csv\",na_values = missing_values)\n",
    "meat_data =pd.read_csv(\"meat-consumption-vs-gdp-per-capita.csv\", na_values = missing_values)\n",
    "health_data =pd.read_csv(\"healthcare-expenditure-vs-gdp.csv\",na_values = missing_values)"
   ]
  },
  {
   "cell_type": "markdown",
   "metadata": {},
   "source": [
    "### Cleaning of the Dataset\n",
    "##### Extracting the data between 1990 -2020 and droping the redundant columns "
   ]
  },
  {
   "cell_type": "code",
   "execution_count": 4,
   "metadata": {},
   "outputs": [],
   "source": [
    "energy_data = energy_data.drop(['GDP ','Population', 'Continent'],axis =1)\n",
    "energy_data = energy_data[energy_data.Year >=1990]\n",
    "meat_data = meat_data.drop(['Entity', 'GDP ','Population', 'Continent'],axis =1)\n",
    "meat_data = meat_data[meat_data.Year >=1990]\n",
    "health_data = health_data.drop(['Entity','Population', 'Continent'],axis =1)\n",
    "health_data =health_data[health_data.Year >=1990]\n"
   ]
  },
  {
   "cell_type": "markdown",
   "metadata": {},
   "source": [
    "### Merging of the Dataset"
   ]
  },
  {
   "cell_type": "code",
   "execution_count": 5,
   "metadata": {},
   "outputs": [],
   "source": [
    "data = pd.merge(pd.merge(energy_data , meat_data, on=['Code', 'Year']), health_data , on=['Code' , 'Year'])"
   ]
  },
  {
   "cell_type": "markdown",
   "metadata": {},
   "source": [
    "### Training set for the model\n",
    "##### For training purpose we select USA and India, then check correlation between GDP and different categories"
   ]
  },
  {
   "cell_type": "code",
   "execution_count": 6,
   "metadata": {},
   "outputs": [],
   "source": [
    "data =data.loc[data['Code'].isin([\"IND\"])]             # add countries of your choice. \n"
   ]
  },
  {
   "cell_type": "markdown",
   "metadata": {},
   "source": [
    "##### Automatic filling of NA values with ffill and bfill values between two points grouped by country for rest of the data \n",
    "###### data = data.interpolate()  "
   ]
  },
  {
   "cell_type": "code",
   "execution_count": 7,
   "metadata": {},
   "outputs": [
    {
     "name": "stdout",
     "output_type": "stream",
     "text": [
      "       Entity Code    Year  Energy_use   Meat_quantity  health_expenditure  \\\n",
      "797508  India  IND  1990.0  4071.380910           4.12           86.040833   \n",
      "797509  India  IND  1991.0  4156.175422           4.23           86.040833   \n",
      "797510  India  IND  1992.0  4222.601078           4.23           86.040833   \n",
      "797511  India  IND  1993.0  4239.303587           4.23           86.040833   \n",
      "797512  India  IND  1994.0  4317.357469           4.18           86.040833   \n",
      "797513  India  IND  1995.0  4478.618307           4.10           86.040833   \n",
      "797514  India  IND  1996.0  4529.030354           4.08           86.040833   \n",
      "797515  India  IND  1997.0  4621.508162           4.02           86.040833   \n",
      "797516  India  IND  1998.0  4646.171513           4.06           86.040833   \n",
      "797517  India  IND  1999.0  4826.013804           4.05           86.040833   \n",
      "797518  India  IND  2000.0  4853.054761           3.97           86.040833   \n",
      "797519  India  IND  2001.0  4838.247877           4.03           95.705498   \n",
      "797520  India  IND  2002.0  4899.375651           4.07           98.700424   \n",
      "797521  India  IND  2003.0  4934.543198           4.08          100.831589   \n",
      "797522  India  IND  2004.0  5113.745924           4.18          108.558044   \n",
      "797523  India  IND  2005.0  5230.777058           4.12          113.844963   \n",
      "797524  India  IND  2006.0  5421.188140           4.16          118.776871   \n",
      "797525  India  IND  2007.0  5641.708812           4.36          126.242859   \n",
      "797526  India  IND  2008.0  5833.138513           4.41          131.016251   \n",
      "797527  India  IND  2009.0  6334.007206           4.45          138.749176   \n",
      "797528  India  IND  2010.0  6532.028825           4.38          141.348724   \n",
      "797529  India  IND  2011.0  6722.075405           4.13          145.879913   \n",
      "797530  India  IND  2012.0  6968.180089           4.11          161.845001   \n",
      "797531  India  IND  2013.0  7045.385004           3.69          189.617996   \n",
      "797532  India  IND  2014.0  7403.330480           3.50          189.443817   \n",
      "797533  India  IND  2015.0  7403.330480           4.67          196.497711   \n",
      "797534  India  IND  2016.0  7403.330480           3.77          204.646637   \n",
      "797535  India  IND  2017.0  7403.330480           4.78          181.529114   \n",
      "797536  India  IND  2018.0  7403.330480           4.78          195.565002   \n",
      "797537  India  IND  2019.0  7403.330480           4.78          211.002228   \n",
      "797538  India  IND  2020.0  7403.330480           4.78          211.002228   \n",
      "797539  India  IND  2021.0  7403.330480           4.78          211.002228   \n",
      "\n",
      "               GDP   \n",
      "797508  1200.902466  \n",
      "797509  1229.302856  \n",
      "797510  1299.945923  \n",
      "797511  1366.779053  \n",
      "797512  1460.267822  \n",
      "797513  1573.332520  \n",
      "797514  1690.744751  \n",
      "797515  1757.514771  \n",
      "797516  1852.810425  \n",
      "797517  2009.215698  \n",
      "797518  2095.646973  \n",
      "797519  2206.448242  \n",
      "797520  2287.630127  \n",
      "797521  2472.103760  \n",
      "797522  2695.893555  \n",
      "797523  2953.109375  \n",
      "797524  3237.294678  \n",
      "797525  3525.314453  \n",
      "797526  3650.942871  \n",
      "797527  3912.418213  \n",
      "797528  4236.744141  \n",
      "797529  4493.669434  \n",
      "797530  4861.156250  \n",
      "797531  5057.233398  \n",
      "797532  5233.882324  \n",
      "797533  5464.859375  \n",
      "797534  5839.864746  \n",
      "797535  6182.921875  \n",
      "797536  6675.361328  \n",
      "797537  6997.863770  \n",
      "797538  6503.948242  \n",
      "797539  6503.948242  \n"
     ]
    }
   ],
   "source": [
    "data[\"Meat_quantity\"] = data.groupby('Entity')['Meat_quantity'].transform(lambda x: x.ffill().bfill())\n",
    "data[\"Energy_use \"] = data.groupby('Entity')['Energy_use '].transform(lambda x: x.ffill().bfill())\n",
    "data[\"health_expenditure\"] = data.groupby('Entity')['health_expenditure'].transform(lambda x: x.ffill().bfill())\n",
    "data[\"GDP \"] = data.groupby('Entity')['GDP '].transform(lambda x: x.ffill().bfill())\n",
    "\n",
    "with pd.option_context('display.max_rows', None,\n",
    "                       'display.max_columns', None,\n",
    "                       'display.precision', 6,\n",
    "                       ):\n",
    "                            print(data)"
   ]
  },
  {
   "cell_type": "markdown",
   "metadata": {},
   "source": [
    "#### Checking the null values"
   ]
  },
  {
   "cell_type": "code",
   "execution_count": 8,
   "metadata": {},
   "outputs": [
    {
     "name": "stdout",
     "output_type": "stream",
     "text": [
      "Null Values: \n",
      "Entity                0\n",
      "Code                  0\n",
      "Year                  0\n",
      "Energy_use            0\n",
      "Meat_quantity         0\n",
      "health_expenditure    0\n",
      "GDP                   0\n",
      "dtype: int64\n"
     ]
    }
   ],
   "source": [
    "print(\"Null Values: \")\n",
    "print(data.isnull().sum())\n"
   ]
  },
  {
   "cell_type": "markdown",
   "metadata": {},
   "source": [
    "##### Correlation"
   ]
  },
  {
   "cell_type": "code",
   "execution_count": 9,
   "metadata": {},
   "outputs": [
    {
     "name": "stdout",
     "output_type": "stream",
     "text": [
      "Correlation co-effecient :\n",
      "Health Expenditure: 0.9807653784168027\n",
      "Meat Production: 0.47290957539841133\n",
      "Energy Consumption: 0.980985254708644\n"
     ]
    }
   ],
   "source": [
    "print(\"Correlation co-effecient :\")\n",
    "x = data.loc[:,\"Energy_use \"]         #0.62 -> moderately correlated\n",
    "y = data.loc[:,\"Meat_quantity\"]         #0.275 -> Weakly  correlated\n",
    "z = data.loc[:,\"health_expenditure\"]    #0.97 ->strongly correlated\n",
    "g = data.loc[:,\"GDP \"]        \n",
    "print(\"Health Expenditure:\",(np.corrcoef(z,g))[0][1])\n",
    "print(\"Meat Production:\",(np.corrcoef(y,g))[0][1])\n",
    "print(\"Energy Consumption:\",(np.corrcoef(x,g))[0][1])"
   ]
  },
  {
   "cell_type": "markdown",
   "metadata": {},
   "source": [
    "Energy consumption vs GDP\n"
   ]
  },
  {
   "cell_type": "code",
   "execution_count": 14,
   "metadata": {},
   "outputs": [
    {
     "data": {
      "text/plain": [
       "<seaborn.axisgrid.FacetGrid at 0x28ea0a277c0>"
      ]
     },
     "execution_count": 14,
     "metadata": {},
     "output_type": "execute_result"
    },
    {
     "data": {
      "image/png": "[encoded data removed]",
      "text/plain": [
       "<Figure size 360x360 with 1 Axes>"
      ]
     },
     "metadata": {
      "needs_background": "light"
     },
     "output_type": "display_data"
    }
   ],
   "source": [
    "\n",
    "sns.lmplot(x='Energy_use ',y='GDP ',data=data,fit_reg=True,line_kws={\"color\": \"red\"})\n",
    "#hry"
   ]
  },
  {
   "cell_type": "markdown",
   "metadata": {},
   "source": [
    "Meat consumption and GDP\n"
   ]
  },
  {
   "cell_type": "code",
   "execution_count": 43,
   "metadata": {},
   "outputs": [
    {
     "data": {
      "text/plain": [
       "<seaborn.axisgrid.FacetGrid at 0x1d7fe93a5f0>"
      ]
     },
     "execution_count": 43,
     "metadata": {},
     "output_type": "execute_result"
    },
    {
     "data": {
      "image/png": "[encoded data removed]",
      "text/plain": [
       "<Figure size 360x360 with 1 Axes>"
      ]
     },
     "metadata": {
      "needs_background": "light"
     },
     "output_type": "display_data"
    }
   ],
   "source": [
    "sns.lmplot(x='Meat_quantity',y='GDP ',data=data,fit_reg=True,line_kws={\"color\": \"red\"})"
   ]
  },
  {
   "cell_type": "markdown",
   "metadata": {},
   "source": [
    "Healt Expenditure and GDP"
   ]
  },
  {
   "cell_type": "code",
   "execution_count": 45,
   "metadata": {},
   "outputs": [
    {
     "data": {
      "text/plain": [
       "<seaborn.axisgrid.FacetGrid at 0x1d7810aee30>"
      ]
     },
     "execution_count": 45,
     "metadata": {},
     "output_type": "execute_result"
    },
    {
     "data": {
      "image/png": "[encoded data removed]",
      "text/plain": [
       "<Figure size 360x360 with 1 Axes>"
      ]
     },
     "metadata": {
      "needs_background": "light"
     },
     "output_type": "display_data"
    }
   ],
   "source": [
    "sns.lmplot(x='health_expenditure',y='GDP ',data=data,fit_reg=True,line_kws={\"color\": \"red\"})"
   ]
  },
  {
   "cell_type": "code",
   "execution_count": 11,
   "metadata": {},
   "outputs": [
    {
     "data": {
      "application/vnd.jupyter.widget-view+json": {
       "model_id": "30ac8f389a12474686bf40dc16300f2a",
       "version_major": 2,
       "version_minor": 0
      },
      "text/plain": [
       "Summarize dataset:   0%|          | 0/5 [00:00<?, ?it/s]"
      ]
     },
     "metadata": {},
     "output_type": "display_data"
    },
    {
     "data": {
      "application/vnd.jupyter.widget-view+json": {
       "model_id": "445fffe9752845b78c0178c0ee4564be",
       "version_major": 2,
       "version_minor": 0
      },
      "text/plain": [
       "Generate report structure:   0%|          | 0/1 [00:00<?, ?it/s]"
      ]
     },
     "metadata": {},
     "output_type": "display_data"
    },
    {
     "data": {
      "application/vnd.jupyter.widget-view+json": {
       "model_id": "d428ced863a2402089a7994ab15e92c3",
       "version_major": 2,
       "version_minor": 0
      },
      "text/plain": [
       "Render widgets:   0%|          | 0/1 [00:00<?, ?it/s]"
      ]
     },
     "metadata": {},
     "output_type": "display_data"
    },
    {
     "data": {
      "application/vnd.jupyter.widget-view+json": {
       "model_id": "e55ca61c8ff241c788b584e5958ece20",
       "version_major": 2,
       "version_minor": 0
      },
      "text/plain": [
       "VBox(children=(Tab(children=(Tab(children=(GridBox(children=(VBox(children=(GridspecLayout(children=(HTML(valu…"
      ]
     },
     "metadata": {},
     "output_type": "display_data"
    }
   ],
   "source": [
    "profile = ProfileReport(data, title =\"Summary of Dataset\", explorative =True)\n",
    "profile.to_widgets()"
   ]
  }
 ],
 "metadata": {
  "kernelspec": {
   "display_name": "Python 3.10.7 64-bit",
   "language": "python",
   "name": "python3"
  },
  "language_info": {
   "codemirror_mode": {
    "name": "ipython",
    "version": 3
   },
   "file_extension": ".py",
   "mimetype": "text/x-python",
   "name": "python",
   "nbconvert_exporter": "python",
   "pygments_lexer": "ipython3",
   "version": "3.10.7"
  },
  "orig_nbformat": 4,
  "vscode": {
   "interpreter": {
    "hash": "a7dbb88c84ecda04e2dfa8176cb6708abf8c95c32934f510df16d1a1f4945387"
   }
  }
 },
 "nbformat": 4,
 "nbformat_minor": 2
}
