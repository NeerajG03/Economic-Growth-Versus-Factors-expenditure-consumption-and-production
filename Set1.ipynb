{
 "cells": [
  {
   "cell_type": "markdown",
   "metadata": {},
   "source": [
    "## Importing of modules and loading of dataset"
   ]
  },
  {
   "cell_type": "code",
   "execution_count": 1,
   "metadata": {},
   "outputs": [],
   "source": [
    "import pandas as pd\n",
    "import numpy as np\n",
    "\n",
    "missing_values =[\"N/a\", \"na\", np.nan, \"\", 0, \"NaN\"]\n",
    "energy_data = pd.read_csv(\"energy-use-per-capita-vs-gdp-per-capita.csv\",na_values = missing_values)\n",
    "meat_data =pd.read_csv(\"meat-consumption-vs-gdp-per-capita.csv\", na_values = missing_values)\n",
    "health_data =pd.read_csv(\"healthcare-expenditure-vs-gdp.csv\",na_values = missing_values)"
   ]
  },
  {
   "cell_type": "markdown",
   "metadata": {},
   "source": [
    "### Cleaning of the Dataset\n",
    "##### Extracting the data between 1990 -2020 and droping the redundant columns "
   ]
  },
  {
   "cell_type": "code",
   "execution_count": 2,
   "metadata": {},
   "outputs": [],
   "source": [
    "energy_data = energy_data.drop(['GDP ','Population', 'Continent'],axis =1)\n",
    "energy_data = energy_data[energy_data.Year >=1990]\n",
    "meat_data = meat_data.drop(['Entity', 'GDP ','Population', 'Continent'],axis =1)\n",
    "meat_data = meat_data[meat_data.Year >=1990]\n",
    "health_data = health_data.drop(['Entity','Population', 'Continent'],axis =1)\n",
    "health_data =health_data[health_data.Year >=1990]\n"
   ]
  },
  {
   "cell_type": "markdown",
   "metadata": {},
   "source": [
    "### Merging of the Dataset"
   ]
  },
  {
   "cell_type": "code",
   "execution_count": 3,
   "metadata": {},
   "outputs": [],
   "source": [
    "data = pd.merge(pd.merge(energy_data , meat_data, on=['Code', 'Year']), health_data , on=['Code' , 'Year'])"
   ]
  },
  {
   "cell_type": "markdown",
   "metadata": {},
   "source": [
    "### Training set for the model\n",
    "##### For training purpose we select USA and India, then check correlation between GDP and different categories"
   ]
  },
  {
   "cell_type": "code",
   "execution_count": 4,
   "metadata": {},
   "outputs": [],
   "source": [
    "data =data.loc[data['Code'].isin([\"USA\",\"IND\"])]             # add countries of your choice. \n"
   ]
  },
  {
   "cell_type": "markdown",
   "metadata": {},
   "source": [
    "##### Automatic filling of NA values with ffill and bfill values between two points grouped by country for rest of the data \n",
    "###### data = data.interpolate()  "
   ]
  },
  {
   "cell_type": "code",
   "execution_count": 18,
   "metadata": {},
   "outputs": [
    {
     "name": "stdout",
     "output_type": "stream",
     "text": [
      "               Entity Code    Year   Energy_use   Meat_quantity  \\\n",
      "797508          India  IND  1990.0   4071.380910           4.12   \n",
      "797509          India  IND  1991.0   4156.175422           4.23   \n",
      "797510          India  IND  1992.0   4222.601078           4.23   \n",
      "797511          India  IND  1993.0   4239.303587           4.23   \n",
      "797512          India  IND  1994.0   4317.357469           4.18   \n",
      "797513          India  IND  1995.0   4478.618307           4.10   \n",
      "797514          India  IND  1996.0   4529.030354           4.08   \n",
      "797515          India  IND  1997.0   4621.508162           4.02   \n",
      "797516          India  IND  1998.0   4646.171513           4.06   \n",
      "797517          India  IND  1999.0   4826.013804           4.05   \n",
      "797518          India  IND  2000.0   4853.054761           3.97   \n",
      "797519          India  IND  2001.0   4838.247877           4.03   \n",
      "797520          India  IND  2002.0   4899.375651           4.07   \n",
      "797521          India  IND  2003.0   4934.543198           4.08   \n",
      "797522          India  IND  2004.0   5113.745924           4.18   \n",
      "797523          India  IND  2005.0   5230.777058           4.12   \n",
      "797524          India  IND  2006.0   5421.188140           4.16   \n",
      "797525          India  IND  2007.0   5641.708812           4.36   \n",
      "797526          India  IND  2008.0   5833.138513           4.41   \n",
      "797527          India  IND  2009.0   6334.007206           4.45   \n",
      "797528          India  IND  2010.0   6532.028825           4.38   \n",
      "797529          India  IND  2011.0   6722.075405           4.13   \n",
      "797530          India  IND  2012.0   6968.180089           4.11   \n",
      "797531          India  IND  2013.0   7045.385004           3.69   \n",
      "797532          India  IND  2014.0   7403.330480           3.50   \n",
      "797533          India  IND  2015.0   7403.330480           3.67   \n",
      "797534          India  IND  2016.0   7403.330480           3.77   \n",
      "797535          India  IND  2017.0   7403.330480           3.78   \n",
      "797536          India  IND  2018.0   7403.330480           3.78   \n",
      "797537          India  IND  2019.0   7403.330480           3.78   \n",
      "797538          India  IND  2020.0   7403.330480           3.78   \n",
      "797539          India  IND  2021.0   7403.330480           3.78   \n",
      "801662  United States  USA  1990.0  89222.719400         112.69   \n",
      "801663  United States  USA  1991.0  88753.970210         114.27   \n",
      "801664  United States  USA  1992.0  89288.177900         117.41   \n",
      "801665  United States  USA  1993.0  89661.445250         116.48   \n",
      "801666  United States  USA  1994.0  90223.575170         119.00   \n",
      "801667  United States  USA  1995.0  90292.469290         118.13   \n",
      "801668  United States  USA  1996.0  91231.165880         117.85   \n",
      "801669  United States  USA  1997.0  91046.397670         116.88   \n",
      "801670  United States  USA  1998.0  90757.004880         120.40   \n",
      "801671  United States  USA  1999.0  92147.096530         123.81   \n",
      "801672  United States  USA  2000.0  93701.325640         121.68   \n",
      "801673  United States  USA  2001.0  91038.316860         120.78   \n",
      "801674  United States  USA  2002.0  91218.099170         124.39   \n",
      "801675  United States  USA  2003.0  90646.957140         123.17   \n",
      "801676  United States  USA  2004.0  91662.759270         125.76   \n",
      "801677  United States  USA  2005.0  91254.789320         125.30   \n",
      "801678  United States  USA  2006.0  89523.696760         125.53   \n",
      "801679  United States  USA  2007.0  90227.470760         125.47   \n",
      "801680  United States  USA  2008.0  87086.394020         122.61   \n",
      "801681  United States  USA  2009.0  82070.394330         118.70   \n",
      "801682  United States  USA  2010.0  83287.393190         118.82   \n",
      "801683  United States  USA  2011.0  81758.371880         116.29   \n",
      "801684  United States  USA  2012.0  79921.678010         114.91   \n",
      "801685  United States  USA  2013.0  80312.112100         115.13   \n",
      "801686  United States  USA  2014.0  80952.755870         117.56   \n",
      "801687  United States  USA  2015.0  79130.480250         120.86   \n",
      "801688  United States  USA  2016.0  79130.480250         122.86   \n",
      "801689  United States  USA  2017.0  79130.480250         124.10   \n",
      "801690  United States  USA  2018.0  79130.480250         124.10   \n",
      "801691  United States  USA  2019.0  79130.480250         124.10   \n",
      "801692  United States  USA  2020.0  79130.480250         124.10   \n",
      "801693  United States  USA  2021.0  79130.480250         124.10   \n",
      "\n",
      "        health_expenditure          GDP   \n",
      "797508           86.040833   1200.902466  \n",
      "797509           86.040833   1229.302856  \n",
      "797510           86.040833   1299.945923  \n",
      "797511           86.040833   1366.779053  \n",
      "797512           86.040833   1460.267822  \n",
      "797513           86.040833   1573.332520  \n",
      "797514           86.040833   1690.744751  \n",
      "797515           86.040833   1757.514771  \n",
      "797516           86.040833   1852.810425  \n",
      "797517           86.040833   2009.215698  \n",
      "797518           86.040833   2095.646973  \n",
      "797519           95.705498   2206.448242  \n",
      "797520           98.700424   2287.630127  \n",
      "797521          100.831589   2472.103760  \n",
      "797522          108.558044   2695.893555  \n",
      "797523          113.844963   2953.109375  \n",
      "797524          118.776871   3237.294678  \n",
      "797525          126.242859   3525.314453  \n",
      "797526          131.016251   3650.942871  \n",
      "797527          138.749176   3912.418213  \n",
      "797528          141.348724   4236.744141  \n",
      "797529          145.879913   4493.669434  \n",
      "797530          161.845001   4861.156250  \n",
      "797531          189.617996   5057.233398  \n",
      "797532          189.443817   5233.882324  \n",
      "797533          196.497711   5464.859375  \n",
      "797534          204.646637   5839.864746  \n",
      "797535          181.529114   6182.921875  \n",
      "797536          195.565002   6675.361328  \n",
      "797537          211.002228   6997.863770  \n",
      "797538          211.002228   6503.948242  \n",
      "797539          211.002228   6503.948242  \n",
      "801662         4543.436035  23888.599610  \n",
      "801663         4543.436035  24342.259770  \n",
      "801664         4543.436035  25418.990230  \n",
      "801665         4543.436035  26387.292970  \n",
      "801666         4543.436035  27694.853520  \n",
      "801667         4543.436035  28690.875000  \n",
      "801668         4543.436035  29967.712890  \n",
      "801669         4543.436035  31459.138670  \n",
      "801670         4543.436035  32853.675780  \n",
      "801671         4543.436035  34513.562500  \n",
      "801672         4543.436035  36334.910160  \n",
      "801673         4894.280762  37133.242190  \n",
      "801674         5322.742188  38023.160160  \n",
      "801675         5732.229492  39496.484380  \n",
      "801676         6097.287598  41712.800780  \n",
      "801677         6454.403809  44114.746090  \n",
      "801678         6828.615723  46298.730470  \n",
      "801679         7181.892090  47975.968750  \n",
      "801680         7401.369141  48382.558590  \n",
      "801681         7657.559082  47099.980470  \n",
      "801682         7888.352051  48466.656250  \n",
      "801683         8080.214844  49882.558590  \n",
      "801684         8342.580078  51602.929690  \n",
      "801685         8522.125977  53106.535160  \n",
      "801686         8939.396484  55049.988280  \n",
      "801687         9392.066406  56863.371090  \n",
      "801688         9775.000000  58021.402340  \n",
      "801689        10103.091800  60109.656250  \n",
      "801690        10515.323240  63064.417970  \n",
      "801691        10921.012700  65279.527340  \n",
      "801692        10921.012700  63206.519530  \n",
      "801693        10921.012700  63206.519530  \n"
     ]
    }
   ],
   "source": [
    "data[\"Meat_quantity\"] = data.groupby('Entity')['Meat_quantity'].transform(lambda x: x.ffill().bfill())\n",
    "data[\"Energy_use \"] = data.groupby('Entity')['Energy_use '].transform(lambda x: x.ffill().bfill())\n",
    "data[\"health_expenditure\"] = data.groupby('Entity')['health_expenditure'].transform(lambda x: x.ffill().bfill())\n",
    "data[\"GDP \"] = data.groupby('Entity')['GDP '].transform(lambda x: x.ffill().bfill())\n",
    "\n",
    "with pd.option_context('display.max_rows', None,\n",
    "                       'display.max_columns', None,\n",
    "                       'display.precision', 6,\n",
    "                       ):\n",
    "                            print(data)"
   ]
  },
  {
   "cell_type": "markdown",
   "metadata": {},
   "source": [
    "#### Checking the null values"
   ]
  },
  {
   "cell_type": "code",
   "execution_count": 10,
   "metadata": {},
   "outputs": [
    {
     "name": "stdout",
     "output_type": "stream",
     "text": [
      "Null Values: \n",
      "Entity                0\n",
      "Code                  0\n",
      "Year                  0\n",
      "Energy_use            0\n",
      "Meat_quantity         0\n",
      "health_expenditure    0\n",
      "GDP                   0\n",
      "dtype: int64\n"
     ]
    }
   ],
   "source": [
    "print(\"Null Values: \")\n",
    "print(data.isnull().sum())\n"
   ]
  },
  {
   "cell_type": "markdown",
   "metadata": {},
   "source": [
    "##### Correlation"
   ]
  },
  {
   "cell_type": "code",
   "execution_count": 15,
   "metadata": {},
   "outputs": [
    {
     "name": "stdout",
     "output_type": "stream",
     "text": [
      "Correlation co-effecient :\n",
      "Health Expenditure: 0.993547949458388\n",
      "Meat Production: 0.9182549145143167\n",
      "Energy Consumption: 0.8764397576472517\n"
     ]
    }
   ],
   "source": [
    "print(\"Correlation co-effecient :\")\n",
    "x = data.loc[:,\"Energy_use \"]         #0.62 -> moderately correlated\n",
    "y = data.loc[:,\"Meat_quantity\"]         #0.275 -> Weakly  correlated\n",
    "z = data.loc[:,\"health_expenditure\"]    #0.97 ->strongly correlated\n",
    "g = data.loc[:,\"GDP \"]        \n",
    "print(\"Health Expenditure:\",(np.corrcoef(z,g))[0][1])\n",
    "print(\"Meat Production:\",(np.corrcoef(y,g))[0][1])\n",
    "print(\"Energy Consumption:\",(np.corrcoef(x,g))[0][1])"
   ]
  }
 ],
 "metadata": {
  "kernelspec": {
   "display_name": "Python 3.10.7 64-bit",
   "language": "python",
   "name": "python3"
  },
  "language_info": {
   "codemirror_mode": {
    "name": "ipython",
    "version": 3
   },
   "file_extension": ".py",
   "mimetype": "text/x-python",
   "name": "python",
   "nbconvert_exporter": "python",
   "pygments_lexer": "ipython3",
   "version": "3.10.7"
  },
  "orig_nbformat": 4,
  "vscode": {
   "interpreter": {
    "hash": "a7dbb88c84ecda04e2dfa8176cb6708abf8c95c32934f510df16d1a1f4945387"
   }
  }
 },
 "nbformat": 4,
 "nbformat_minor": 2
}
