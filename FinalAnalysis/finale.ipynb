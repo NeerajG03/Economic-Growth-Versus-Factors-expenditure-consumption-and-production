{
 "cells": [
  {
   "cell_type": "code",
   "execution_count": 4,
   "metadata": {},
   "outputs": [],
   "source": [
    "import pandas as pd\n",
    "import numpy as np\n",
    "import seaborn as sns\n",
    "import matplotlib.pyplot as plt\n",
    "import math\n",
    "from sklearn.metrics import mean_absolute_error as mse"
   ]
  },
  {
   "cell_type": "code",
   "execution_count": 5,
   "metadata": {},
   "outputs": [
    {
     "data": {
      "text/html": [
       "<div>\n",
       "<style scoped>\n",
       "    .dataframe tbody tr th:only-of-type {\n",
       "        vertical-align: middle;\n",
       "    }\n",
       "\n",
       "    .dataframe tbody tr th {\n",
       "        vertical-align: top;\n",
       "    }\n",
       "\n",
       "    .dataframe thead th {\n",
       "        text-align: right;\n",
       "    }\n",
       "</style>\n",
       "<table border=\"1\" class=\"dataframe\">\n",
       "  <thead>\n",
       "    <tr style=\"text-align: right;\">\n",
       "      <th></th>\n",
       "      <th>Entity</th>\n",
       "      <th>Code</th>\n",
       "      <th>Year</th>\n",
       "      <th>Electricity(TWh)</th>\n",
       "      <th>Meat_quantity</th>\n",
       "      <th>health_expenditure</th>\n",
       "      <th>GDP</th>\n",
       "      <th>Cereal yield</th>\n",
       "    </tr>\n",
       "  </thead>\n",
       "  <tbody>\n",
       "    <tr>\n",
       "      <th>0</th>\n",
       "      <td>Albania</td>\n",
       "      <td>ALB</td>\n",
       "      <td>1990</td>\n",
       "      <td>3.30</td>\n",
       "      <td>17.00</td>\n",
       "      <td>NaN</td>\n",
       "      <td>2548.112549</td>\n",
       "      <td>2794.399902</td>\n",
       "    </tr>\n",
       "    <tr>\n",
       "      <th>1</th>\n",
       "      <td>Albania</td>\n",
       "      <td>ALB</td>\n",
       "      <td>1991</td>\n",
       "      <td>3.82</td>\n",
       "      <td>20.61</td>\n",
       "      <td>NaN</td>\n",
       "      <td>1908.095337</td>\n",
       "      <td>2071.899902</td>\n",
       "    </tr>\n",
       "    <tr>\n",
       "      <th>2</th>\n",
       "      <td>Albania</td>\n",
       "      <td>ALB</td>\n",
       "      <td>1992</td>\n",
       "      <td>3.40</td>\n",
       "      <td>20.07</td>\n",
       "      <td>NaN</td>\n",
       "      <td>1822.334717</td>\n",
       "      <td>2158.600098</td>\n",
       "    </tr>\n",
       "    <tr>\n",
       "      <th>3</th>\n",
       "      <td>Albania</td>\n",
       "      <td>ALB</td>\n",
       "      <td>1993</td>\n",
       "      <td>3.53</td>\n",
       "      <td>22.12</td>\n",
       "      <td>NaN</td>\n",
       "      <td>2056.373047</td>\n",
       "      <td>2685.000000</td>\n",
       "    </tr>\n",
       "    <tr>\n",
       "      <th>4</th>\n",
       "      <td>Albania</td>\n",
       "      <td>ALB</td>\n",
       "      <td>1994</td>\n",
       "      <td>3.94</td>\n",
       "      <td>24.94</td>\n",
       "      <td>NaN</td>\n",
       "      <td>2288.676025</td>\n",
       "      <td>2460.899902</td>\n",
       "    </tr>\n",
       "  </tbody>\n",
       "</table>\n",
       "</div>"
      ],
      "text/plain": [
       "    Entity Code  Year  Electricity(TWh)  Meat_quantity  health_expenditure  \\\n",
       "0  Albania  ALB  1990              3.30          17.00                 NaN   \n",
       "1  Albania  ALB  1991              3.82          20.61                 NaN   \n",
       "2  Albania  ALB  1992              3.40          20.07                 NaN   \n",
       "3  Albania  ALB  1993              3.53          22.12                 NaN   \n",
       "4  Albania  ALB  1994              3.94          24.94                 NaN   \n",
       "\n",
       "           GDP  Cereal yield  \n",
       "0  2548.112549   2794.399902  \n",
       "1  1908.095337   2071.899902  \n",
       "2  1822.334717   2158.600098  \n",
       "3  2056.373047   2685.000000  \n",
       "4  2288.676025   2460.899902  "
      ]
     },
     "execution_count": 5,
     "metadata": {},
     "output_type": "execute_result"
    }
   ],
   "source": [
    "missing_values =[\"N/a\", \"na\", np.nan, \"\", 0, \"NaN\"]\n",
    "data = pd.read_csv(\"../Clean_Dataset/Final.csv\",na_values = missing_values)\n",
    "data = data.iloc[: , 1:]\n",
    "data.head()"
   ]
  },
  {
   "cell_type": "code",
   "execution_count": 12,
   "metadata": {},
   "outputs": [],
   "source": [
    "traindata = data.loc[(data['Year'] <= 2015) & (data['Year'] > 1999)]\n",
    "testdata = data.loc[(data['Year'] > 2015) & (data['Year']<=2018)]\n"
   ]
  },
  {
   "cell_type": "code",
   "execution_count": 11,
   "metadata": {},
   "outputs": [],
   "source": [
    "country = ['Canada','India','Germany','France']\n",
    "traindata = traindata.loc[(data['Entity'] == 'Canada') | (data['Entity'] == 'India') | (data['Entity'] == 'Germany') | (data['Entity'] == 'France')]\n",
    "xtrain = traindata[['Entity','Code','Year','Electricity(TWh)','health_expenditure','Cereal yield']]\n",
    "xtest = testdata[['Entity','Code','Year','Electricity(TWh)','health_expenditure','Cereal yield']]\n",
    "ytrain = traindata[['Entity','Code','Year','GDP']]\n",
    "ytest = testdata[['Entity','Code','Year','GDP']]\n"
   ]
  },
  {
   "cell_type": "markdown",
   "metadata": {},
   "source": [
    "## Elastic Net Model"
   ]
  },
  {
   "cell_type": "code",
   "execution_count": 112,
   "metadata": {},
   "outputs": [
    {
     "name": "stdout",
     "output_type": "stream",
     "text": [
      "Canada  :\n",
      "actual:  [46472. 48317. 49993.]\n",
      "predicted:  [47750. 48410. 49061.]\n",
      "RMSE:  27.70679820308847 \n",
      "\n",
      "India  :\n",
      "actual:  [5840. 6183. 6675.]\n",
      "predicted:  [5975. 6202. 6672.]\n",
      "RMSE:  7.234178138070235 \n",
      "\n",
      "Germany  :\n",
      "actual:  [50580. 53071. 55235.]\n",
      "predicted:  [50637. 53153. 56165.]\n",
      "RMSE:  18.876793513023692 \n",
      "\n",
      "France  :\n",
      "actual:  [42925. 44577. 46577.]\n",
      "predicted:  [42102. 42639. 44189.]\n",
      "RMSE:  41.428653530296316 \n",
      "\n"
     ]
    }
   ],
   "source": [
    "from sklearn.linear_model import ElasticNet\n",
    "\n",
    "for each in country:\n",
    "    x = xtrain.loc[(data['Entity'] == each),['Electricity(TWh)','health_expenditure','Cereal yield']]\n",
    "    xtest_new = xtest.loc[(data['Entity'] == each),['Electricity(TWh)','health_expenditure','Cereal yield']]\n",
    "    y = ytrain.loc[(data['Entity'] == each),['GDP']]\n",
    "    ytest_new = ytest.loc[(data['Entity'] == each),['GDP']].to_numpy().flatten().round()\n",
    "    ENmodel = ElasticNet(alpha=1.0, l1_ratio=0.5)\n",
    "    ENmodel.fit(x,y)\n",
    "    predictions = ENmodel.predict(xtest_new).round()\n",
    "    print(each, \" :\")\n",
    "    print(\"actual: \",ytest_new)\n",
    "    print(\"predicted: \",predictions)\n",
    "    print(\"RMSE: \",math.sqrt(mse(ytest_new,predictions)),\"\\n\")"
   ]
  }
 ],
 "metadata": {
  "kernelspec": {
   "display_name": "Python 3.10.8 64-bit (microsoft store)",
   "language": "python",
   "name": "python3"
  },
  "language_info": {
   "codemirror_mode": {
    "name": "ipython",
    "version": 3
   },
   "file_extension": ".py",
   "mimetype": "text/x-python",
   "name": "python",
   "nbconvert_exporter": "python",
   "pygments_lexer": "ipython3",
   "version": "3.10.8"
  },
  "orig_nbformat": 4,
  "vscode": {
   "interpreter": {
    "hash": "66eba28a75a64fbe1a9b9c30d27f7c856726c51cbbef86297708eae4ce175db0"
   }
  }
 },
 "nbformat": 4,
 "nbformat_minor": 2
}
